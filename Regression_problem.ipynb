

import numpy as np
import pandas as pd
import matplotlib.pyplot as plt
import seaborn as sns

from sklearn.model_selection import train_test_split
from sklearn.linear_model import LinearRegression
from sklearn.metrics import mean_squared_error as metricRMSE
from sklearn.linear_model import Ridge
from sklearn.linear_model import Lasso
from numpy import arange
