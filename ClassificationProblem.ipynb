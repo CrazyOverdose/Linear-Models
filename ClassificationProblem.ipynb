{
 "cells": [
  {
   "cell_type": "markdown",
   "id": "b32a92df",
   "metadata": {},
   "source": [
    "# Домашнее задание 1. Линейные модели\n",
    "\n",
    "### Хрулева Елена ИУ8-83\n",
    "### Вариант 19\n",
    "\n",
    "## Наборы данных\n",
    "\n",
    "### Задача регрессии\n",
    "\n",
    "D. Набор данных Таблица insurance.csv. Задача: построить модель, предсказывающую стоимость медицинской страховки (колонка charges). Baseline: RMSE (root mean square error) = 5800\n",
    "\n",
    "### Задача классификации\n",
    "\n",
    "N. Набор данных Таблица diabetes.csv. Задача: детектировать, есть ли у человека диабет. Baseline: sklearn.metrics.f1_score(average='macro') = 0.73\n",
    "\n",
    "\n",
    "## 2. Задача классификации (9 баллов)\n",
    "\n",
    "Постройте модель машинного обучения, решающую задачу классификации на вашем наборе данных. Задание считается выполненным, если соответствующая оценка качества на тестовой выборке <= baseline."
   ]
  },
  {
   "cell_type": "markdown",
   "id": "ad2208a9",
   "metadata": {},
   "source": [
    "### 0. Инициализация ноутбука\n",
    "\n",
    "Загрузка необходимых библиотек"
   ]
  },
  {
   "cell_type": "code",
   "execution_count": 163,
   "id": "d2849904",
   "metadata": {},
   "outputs": [],
   "source": [
    "from sklearn.preprocessing import MinMaxScaler\n",
    "from sklearn.decomposition import PCA\n",
    "from sklearn.model_selection import GridSearchCV\n",
    "from numpy import arange\n",
    "from sklearn.linear_model import LogisticRegression\n",
    "from sklearn.model_selection import train_test_split\n",
    "from sklearn.metrics import classification_report\n",
    "from sklearn.metrics import f1_score\n",
    "\n",
    "baseline = 0.73"
   ]
  },
  {
   "cell_type": "markdown",
   "id": "9b74f7a2",
   "metadata": {},
   "source": [
    "### 2.1 Загрузка данных\n",
    "\n",
    "Загрузите данные в датафрейм при помощи функции read_csv блиблиотеки pandas"
   ]
  },
  {
   "cell_type": "code",
   "execution_count": 164,
   "id": "5bac9450",
   "metadata": {},
   "outputs": [
    {
     "data": {
      "text/html": [
       "<div>\n",
       "<style scoped>\n",
       "    .dataframe tbody tr th:only-of-type {\n",
       "        vertical-align: middle;\n",
       "    }\n",
       "\n",
       "    .dataframe tbody tr th {\n",
       "        vertical-align: top;\n",
       "    }\n",
       "\n",
       "    .dataframe thead th {\n",
       "        text-align: right;\n",
       "    }\n",
       "</style>\n",
       "<table border=\"1\" class=\"dataframe\">\n",
       "  <thead>\n",
       "    <tr style=\"text-align: right;\">\n",
       "      <th></th>\n",
       "      <th>Pregnancies</th>\n",
       "      <th>Glucose</th>\n",
       "      <th>BloodPressure</th>\n",
       "      <th>SkinThickness</th>\n",
       "      <th>Insulin</th>\n",
       "      <th>BMI</th>\n",
       "      <th>DiabetesPedigreeFunction</th>\n",
       "      <th>Age</th>\n",
       "      <th>Outcome</th>\n",
       "    </tr>\n",
       "  </thead>\n",
       "  <tbody>\n",
       "    <tr>\n",
       "      <th>0</th>\n",
       "      <td>6</td>\n",
       "      <td>148</td>\n",
       "      <td>72</td>\n",
       "      <td>35</td>\n",
       "      <td>0</td>\n",
       "      <td>33.6</td>\n",
       "      <td>0.627</td>\n",
       "      <td>50</td>\n",
       "      <td>1</td>\n",
       "    </tr>\n",
       "    <tr>\n",
       "      <th>1</th>\n",
       "      <td>1</td>\n",
       "      <td>85</td>\n",
       "      <td>66</td>\n",
       "      <td>29</td>\n",
       "      <td>0</td>\n",
       "      <td>26.6</td>\n",
       "      <td>0.351</td>\n",
       "      <td>31</td>\n",
       "      <td>0</td>\n",
       "    </tr>\n",
       "    <tr>\n",
       "      <th>2</th>\n",
       "      <td>8</td>\n",
       "      <td>183</td>\n",
       "      <td>64</td>\n",
       "      <td>0</td>\n",
       "      <td>0</td>\n",
       "      <td>23.3</td>\n",
       "      <td>0.672</td>\n",
       "      <td>32</td>\n",
       "      <td>1</td>\n",
       "    </tr>\n",
       "    <tr>\n",
       "      <th>3</th>\n",
       "      <td>1</td>\n",
       "      <td>89</td>\n",
       "      <td>66</td>\n",
       "      <td>23</td>\n",
       "      <td>94</td>\n",
       "      <td>28.1</td>\n",
       "      <td>0.167</td>\n",
       "      <td>21</td>\n",
       "      <td>0</td>\n",
       "    </tr>\n",
       "    <tr>\n",
       "      <th>4</th>\n",
       "      <td>0</td>\n",
       "      <td>137</td>\n",
       "      <td>40</td>\n",
       "      <td>35</td>\n",
       "      <td>168</td>\n",
       "      <td>43.1</td>\n",
       "      <td>2.288</td>\n",
       "      <td>33</td>\n",
       "      <td>1</td>\n",
       "    </tr>\n",
       "    <tr>\n",
       "      <th>...</th>\n",
       "      <td>...</td>\n",
       "      <td>...</td>\n",
       "      <td>...</td>\n",
       "      <td>...</td>\n",
       "      <td>...</td>\n",
       "      <td>...</td>\n",
       "      <td>...</td>\n",
       "      <td>...</td>\n",
       "      <td>...</td>\n",
       "    </tr>\n",
       "    <tr>\n",
       "      <th>763</th>\n",
       "      <td>10</td>\n",
       "      <td>101</td>\n",
       "      <td>76</td>\n",
       "      <td>48</td>\n",
       "      <td>180</td>\n",
       "      <td>32.9</td>\n",
       "      <td>0.171</td>\n",
       "      <td>63</td>\n",
       "      <td>0</td>\n",
       "    </tr>\n",
       "    <tr>\n",
       "      <th>764</th>\n",
       "      <td>2</td>\n",
       "      <td>122</td>\n",
       "      <td>70</td>\n",
       "      <td>27</td>\n",
       "      <td>0</td>\n",
       "      <td>36.8</td>\n",
       "      <td>0.340</td>\n",
       "      <td>27</td>\n",
       "      <td>0</td>\n",
       "    </tr>\n",
       "    <tr>\n",
       "      <th>765</th>\n",
       "      <td>5</td>\n",
       "      <td>121</td>\n",
       "      <td>72</td>\n",
       "      <td>23</td>\n",
       "      <td>112</td>\n",
       "      <td>26.2</td>\n",
       "      <td>0.245</td>\n",
       "      <td>30</td>\n",
       "      <td>0</td>\n",
       "    </tr>\n",
       "    <tr>\n",
       "      <th>766</th>\n",
       "      <td>1</td>\n",
       "      <td>126</td>\n",
       "      <td>60</td>\n",
       "      <td>0</td>\n",
       "      <td>0</td>\n",
       "      <td>30.1</td>\n",
       "      <td>0.349</td>\n",
       "      <td>47</td>\n",
       "      <td>1</td>\n",
       "    </tr>\n",
       "    <tr>\n",
       "      <th>767</th>\n",
       "      <td>1</td>\n",
       "      <td>93</td>\n",
       "      <td>70</td>\n",
       "      <td>31</td>\n",
       "      <td>0</td>\n",
       "      <td>30.4</td>\n",
       "      <td>0.315</td>\n",
       "      <td>23</td>\n",
       "      <td>0</td>\n",
       "    </tr>\n",
       "  </tbody>\n",
       "</table>\n",
       "<p>768 rows × 9 columns</p>\n",
       "</div>"
      ],
      "text/plain": [
       "     Pregnancies  Glucose  BloodPressure  SkinThickness  Insulin   BMI  \\\n",
       "0              6      148             72             35        0  33.6   \n",
       "1              1       85             66             29        0  26.6   \n",
       "2              8      183             64              0        0  23.3   \n",
       "3              1       89             66             23       94  28.1   \n",
       "4              0      137             40             35      168  43.1   \n",
       "..           ...      ...            ...            ...      ...   ...   \n",
       "763           10      101             76             48      180  32.9   \n",
       "764            2      122             70             27        0  36.8   \n",
       "765            5      121             72             23      112  26.2   \n",
       "766            1      126             60              0        0  30.1   \n",
       "767            1       93             70             31        0  30.4   \n",
       "\n",
       "     DiabetesPedigreeFunction  Age  Outcome  \n",
       "0                       0.627   50        1  \n",
       "1                       0.351   31        0  \n",
       "2                       0.672   32        1  \n",
       "3                       0.167   21        0  \n",
       "4                       2.288   33        1  \n",
       "..                        ...  ...      ...  \n",
       "763                     0.171   63        0  \n",
       "764                     0.340   27        0  \n",
       "765                     0.245   30        0  \n",
       "766                     0.349   47        1  \n",
       "767                     0.315   23        0  \n",
       "\n",
       "[768 rows x 9 columns]"
      ]
     },
     "execution_count": 164,
     "metadata": {},
     "output_type": "execute_result"
    }
   ],
   "source": [
    "data = pd.read_csv(r'C:\\Users\\alenk\\Downloads\\diabetes.csv')\n",
    "\n",
    "data"
   ]
  },
  {
   "cell_type": "markdown",
   "id": "ee382d56",
   "metadata": {},
   "source": [
    "### 2.2 Разделение набора данных на тренировочный и тестовый\n",
    "\n",
    "Разделите набор данных на тренировочный и тестовый при помощи функции train_test_split библиотеки ???"
   ]
  },
  {
   "cell_type": "code",
   "execution_count": 165,
   "id": "1a0aca5b",
   "metadata": {},
   "outputs": [],
   "source": [
    "correctData = pd.get_dummies(data) # визуально все данные являются числовыми, но лучше перестраховаться\n",
    "withoutTeacher = correctData.loc[:, correctData.columns != 'Outcome']\n",
    "teacher = correctData['Outcome']\n",
    "\n",
    "withoutTeacherTraining, withoutTeacherTest, teacherTraining, teacherTest = train_test_split(withoutTeacher, teacher, train_size=0.80, random_state=4)"
   ]
  },
  {
   "cell_type": "markdown",
   "id": "6981a514",
   "metadata": {},
   "source": [
    "### 2.3 Предобработка данных\n",
    "\n",
    "Проведите необходимую предобработку (перенормировку, выделение главных компонент и т.д.) данных. Приведите данные к такому виду, чтобы их можно было использовать для обучения моделей."
   ]
  },
  {
   "cell_type": "code",
   "execution_count": 166,
   "id": "8abe07e6",
   "metadata": {},
   "outputs": [],
   "source": [
    "# Перенормировка\n",
    "scalerMinMax = MinMaxScaler() \n",
    "normalizedTraining = scalerMinMax.fit_transform(withoutTeacherTraining) \n",
    "normalizedTest = scalerMinMax.transform(withoutTeacherTest) \n",
    "\n",
    "# Выделение главных компонент\n",
    "pca = PCA(n_components=0.9) \n",
    "pca_Training = pca.fit_transform(normalizedTraining)\n",
    "pca_Test = pca.transform(normalizedTest)"
   ]
  },
  {
   "cell_type": "code",
   "execution_count": 167,
   "id": "f2e2c8aa",
   "metadata": {},
   "outputs": [
    {
     "data": {
      "text/plain": [
       "(614, 8)"
      ]
     },
     "execution_count": 167,
     "metadata": {},
     "output_type": "execute_result"
    }
   ],
   "source": [
    "normalizedTraining.shape"
   ]
  },
  {
   "cell_type": "code",
   "execution_count": 168,
   "id": "af5a68cd",
   "metadata": {},
   "outputs": [
    {
     "data": {
      "text/plain": [
       "(154, 8)"
      ]
     },
     "execution_count": 168,
     "metadata": {},
     "output_type": "execute_result"
    }
   ],
   "source": [
    "normalizedTest.shape"
   ]
  },
  {
   "cell_type": "code",
   "execution_count": 169,
   "id": "212bd027",
   "metadata": {},
   "outputs": [
    {
     "data": {
      "text/plain": [
       "(614, 6)"
      ]
     },
     "execution_count": 169,
     "metadata": {},
     "output_type": "execute_result"
    }
   ],
   "source": [
    "pca_Training.shape"
   ]
  },
  {
   "cell_type": "code",
   "execution_count": 170,
   "id": "041b3649",
   "metadata": {},
   "outputs": [
    {
     "data": {
      "text/plain": [
       "(154, 6)"
      ]
     },
     "execution_count": 170,
     "metadata": {},
     "output_type": "execute_result"
    }
   ],
   "source": [
    "pca_Test.shape"
   ]
  },
  {
   "cell_type": "markdown",
   "id": "c5e5b1bd",
   "metadata": {},
   "source": [
    "### 2.4 Логистическая регрессия\n",
    "\n",
    "Обучите модель логистической регрессии, используя стандартную реализацию sklearn.linear_model.LogisticRegression. Оцените метрики качества полученной модели при помощи sklearn.metrics.classification_report и sklearn.metrics.f1_score."
   ]
  },
  {
   "cell_type": "code",
   "execution_count": 171,
   "id": "1e8cd07f",
   "metadata": {},
   "outputs": [
    {
     "name": "stdout",
     "output_type": "stream",
     "text": [
      "Отчет при помощи sklearn.metrics.classification_report:\n",
      "\n",
      "              precision    recall  f1-score   support\n",
      "\n",
      "           0       0.89      0.78      0.83       116\n",
      "           1       0.52      0.71      0.60        38\n",
      "\n",
      "    accuracy                           0.77       154\n",
      "   macro avg       0.71      0.75      0.72       154\n",
      "weighted avg       0.80      0.77      0.78       154\n",
      "\n",
      "\n",
      "sklearn.metrics.f1_score = 0.7174311926605506 and <= baseline = 0.73\n"
     ]
    }
   ],
   "source": [
    "def ScoreChecking(score):\n",
    "    if score > baseline:\n",
    "        raise Exception(f'sklearn.metrics.f1_score({score}) > baseline ({baseline})')\n",
    "    print(f'sklearn.metrics.f1_score = {score} and <= baseline = {baseline}')\n",
    "\n",
    "logisticRegression = LogisticRegression()\n",
    "logisticRegression.fit(pca_Training, teacherTraining)\n",
    "prediction = logisticRegression.predict(pca_Test)\n",
    "\n",
    "report = classification_report(prediction, teacherTest)\n",
    "\n",
    "print(f'Отчет при помощи sklearn.metrics.classification_report:\\n\\n{report}\\n')\n",
    "\n",
    "score = f1_score(prediction, teacherTest, average='macro')\n",
    "\n",
    "ScoreChecking(score)"
   ]
  },
  {
   "cell_type": "markdown",
   "id": "f82e24a3",
   "metadata": {},
   "source": [
    "### 2.5 Подбор гиперпараметра регуляризации\n",
    "\n",
    "При помощи sklearn.model_selection.GridSearchCV переберите оптимальные параметры C в диапазоне 0.01 до 1 с шагом 0.1."
   ]
  },
  {
   "cell_type": "code",
   "execution_count": 174,
   "id": "53caff9c",
   "metadata": {},
   "outputs": [
    {
     "name": "stdout",
     "output_type": "stream",
     "text": [
      "Лучшая модель: LogisticRegression(C=0.81)\n",
      "\n",
      "Ошибка, полученная на лучшей модели: 0.7279888044782087\n",
      "\n",
      "Гиперпараметры лучшей модели: {'C': 0.81}\n",
      "\n"
     ]
    }
   ],
   "source": [
    "gridSearch=GridSearchCV(LogisticRegression(),{'C': arange(0.01,1.01,0.1)})\n",
    "gridSearch.fit(pca_Training, teacherTraining)\n",
    "\n",
    "\n",
    "print(f'Лучшая модель: {gridSearch.best_estimator_}\\n')\n",
    "print(f'Ошибка, полученная на лучшей модели: {gridSearch.best_score_}\\n')\n",
    "print(f'Гиперпараметры лучшей модели: {gridSearch.best_params_}\\n')"
   ]
  },
  {
   "cell_type": "markdown",
   "id": "6e9e446c",
   "metadata": {},
   "source": [
    "### 2.6 Выводы\n",
    "\n",
    "Сравните качество (величину ошибки) для моделей из пп. 2.4-2.5. Какая модель показала наилучший результат?\n",
    "\n"
   ]
  },
  {
   "cell_type": "code",
   "execution_count": 173,
   "id": "b1da02c6",
   "metadata": {},
   "outputs": [
    {
     "name": "stdout",
     "output_type": "stream",
     "text": [
      "Отчет при помощи sklearn.metrics.classification_report:\n",
      "\n",
      "              precision    recall  f1-score   support\n",
      "\n",
      "           0       0.89      0.78      0.83       116\n",
      "           1       0.52      0.71      0.60        38\n",
      "\n",
      "    accuracy                           0.77       154\n",
      "   macro avg       0.71      0.75      0.72       154\n",
      "weighted avg       0.80      0.77      0.78       154\n",
      "\n",
      "\n",
      "sklearn.metrics.f1_score = 0.7174311926605506 and <= baseline = 0.73\n"
     ]
    }
   ],
   "source": [
    "logisticRegression = LogisticRegression(C=0.81)\n",
    "logisticRegression.fit(pca_Training, teacherTraining)\n",
    "prediction = logisticRegression.predict(pca_Test)\n",
    "\n",
    "report = classification_report(prediction, teacherTest)\n",
    "\n",
    "print(f'Отчет при помощи sklearn.metrics.classification_report:\\n\\n{report}\\n')\n",
    "\n",
    "score = f1_score(prediction, teacherTest, average='macro')\n",
    "\n",
    "ScoreChecking(score)"
   ]
  },
  {
   "cell_type": "markdown",
   "id": "c3477e1c",
   "metadata": {},
   "source": [
    "LogisticRegression при C=0.81 и LogisticRegression без указания параметра С дали одинаковый результат"
   ]
  }
 ],
 "metadata": {
  "kernelspec": {
   "display_name": "Python 3 (ipykernel)",
   "language": "python",
   "name": "python3"
  },
  "language_info": {
   "codemirror_mode": {
    "name": "ipython",
    "version": 3
   },
   "file_extension": ".py",
   "mimetype": "text/x-python",
   "name": "python",
   "nbconvert_exporter": "python",
   "pygments_lexer": "ipython3",
   "version": "3.9.7"
  }
 },
 "nbformat": 4,
 "nbformat_minor": 5
}
